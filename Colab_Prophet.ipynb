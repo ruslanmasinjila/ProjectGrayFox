{
  "nbformat": 4,
  "nbformat_minor": 0,
  "metadata": {
    "colab": {
      "provenance": [],
      "private_outputs": true
    },
    "kernelspec": {
      "name": "python3",
      "display_name": "Python 3"
    },
    "language_info": {
      "name": "python"
    },
    "accelerator": "GPU",
    "gpuClass": "standard"
  },
  "cells": [
    {
      "cell_type": "code",
      "source": [
        "# Colab version of Prophet. Loads data from the folder in Colab and executes Prophet"
      ],
      "metadata": {
        "id": "UU-Kr1XhfOr6"
      },
      "execution_count": null,
      "outputs": []
    },
    {
      "cell_type": "code",
      "source": [
        "import pandas as pd\n",
        "from prophet import Prophet\n",
        "import matplotlib.pyplot as plt\n",
        "from datetime import datetime\n",
        "import matplotlib.pyplot as plt"
      ],
      "metadata": {
        "id": "umnbtrF13GBZ"
      },
      "execution_count": null,
      "outputs": []
    },
    {
      "cell_type": "code",
      "source": [
        "rates_frame = pd.read_csv(\"PRICES.csv\")\n",
        "\n",
        "# prepare data for prophet\n",
        "\n",
        "p = int(0.025*len(rates_frame))\n",
        "\n",
        "df = pd.DataFrame()\n",
        "df[\"ds\"]     = rates_frame[\"time\"]\n",
        "df[\"y\"]      = rates_frame[\"close\"]\n",
        "\n",
        "\n",
        "\n",
        "# fit prophet model\n",
        "model = Prophet()\n",
        "\n",
        "model.fit(df)\n",
        "\n",
        "# predict future p closing prices\n",
        "future = model.make_future_dataframe(periods=p, freq='5min')\n",
        "\n",
        "forecast = model.predict(future)\n",
        "\n",
        "\n",
        "# plot predicted vs actual values\n",
        "model.plot(forecast)\n",
        "plt.show()\n"
      ],
      "metadata": {
        "id": "pSGP73mzQF9v"
      },
      "execution_count": null,
      "outputs": []
    }
  ]
}