{
 "cells": [
  {
   "cell_type": "code",
   "execution_count": 8,
   "id": "bee19992",
   "metadata": {},
   "outputs": [],
   "source": [
    "import MetaTrader5 as mt5\n",
    "import pandas as pd\n",
    "import pandas_ta as ta\n",
    "import numpy as np\n",
    "import more_itertools as mit\n",
    "import time\n",
    "import os\n",
    "\n",
    "# NUMBER OF COLUMNS TO BE DISPLAYED\n",
    "pd.set_option('display.max_columns', 500)\n",
    "\n",
    "# MAXIMUM TABLE WIDTH TO DISPLAY\n",
    "pd.set_option('display.width', 1500)      \n",
    " \n",
    "# ESTABLISH CONNECTION TO MT5 TERMINAL\n",
    "if not mt5.initialize():\n",
    "    print(\"initialize() FAILED, ERROR CODE =\",mt5.last_error())\n",
    "    quit()\n",
    "    \n",
    "    \n",
    "rates_frame =  mt5.copy_rates_from_pos(\"USDJPY\", mt5.TIMEFRAME_M1, 1, 1000)\n",
    "rates_frame = pd.DataFrame(rates_frame)\n",
    "rates_frame.to_csv(\"EURUSD.csv\")"
   ]
  },
  {
   "cell_type": "code",
   "execution_count": null,
   "id": "dc54c469",
   "metadata": {},
   "outputs": [],
   "source": []
  }
 ],
 "metadata": {
  "kernelspec": {
   "display_name": "Python 3 (ipykernel)",
   "language": "python",
   "name": "python3"
  },
  "language_info": {
   "codemirror_mode": {
    "name": "ipython",
    "version": 3
   },
   "file_extension": ".py",
   "mimetype": "text/x-python",
   "name": "python",
   "nbconvert_exporter": "python",
   "pygments_lexer": "ipython3",
   "version": "3.9.13"
  }
 },
 "nbformat": 4,
 "nbformat_minor": 5
}
