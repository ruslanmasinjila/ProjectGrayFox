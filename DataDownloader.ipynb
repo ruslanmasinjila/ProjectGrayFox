{
 "cells": [
  {
   "cell_type": "code",
   "execution_count": 6,
   "id": "afadc2f1",
   "metadata": {},
   "outputs": [],
   "source": [
    "# Simply Downloads the Data and saves the data which will be used by Prophet in Google Colab"
   ]
  },
  {
   "cell_type": "code",
   "execution_count": 7,
   "id": "beaa7ba6",
   "metadata": {},
   "outputs": [],
   "source": [
    "from datetime import datetime\n",
    "import MetaTrader5 as mt5\n",
    "import pandas as pd"
   ]
  },
  {
   "cell_type": "code",
   "execution_count": 8,
   "id": "db62f970",
   "metadata": {},
   "outputs": [],
   "source": [
    "# NUMBER OF COLUMNS TO BE DISPLAYED\n",
    "pd.set_option('display.max_columns', 500)\n",
    "\n",
    "# MAXIMUM TABLE WIDTH TO DISPLAY\n",
    "pd.set_option('display.width', 1500)      \n",
    " \n",
    "# ESTABLISH CONNECTION TO MT5 TERMINAL\n",
    "if not mt5.initialize():\n",
    "    print(\"initialize() FAILED, ERROR CODE =\",mt5.last_error())\n",
    "    quit() "
   ]
  },
  {
   "cell_type": "code",
   "execution_count": 9,
   "id": "a211542e",
   "metadata": {},
   "outputs": [],
   "source": [
    "numCandles  = 100000\n",
    "currency_pair = \"WTI\"\n",
    "rates_frame =  mt5.copy_rates_from_pos(currency_pair, mt5.TIMEFRAME_M5, 1, numCandles)\n",
    "rates_frame = pd.DataFrame(rates_frame)\n",
    "rates_frame['time']=pd.to_datetime(rates_frame['time'], unit='s')\n",
    "rates_frame.to_csv(\"PRICES.csv\")"
   ]
  }
 ],
 "metadata": {
  "kernelspec": {
   "display_name": "Python 3 (ipykernel)",
   "language": "python",
   "name": "python3"
  },
  "language_info": {
   "codemirror_mode": {
    "name": "ipython",
    "version": 3
   },
   "file_extension": ".py",
   "mimetype": "text/x-python",
   "name": "python",
   "nbconvert_exporter": "python",
   "pygments_lexer": "ipython3",
   "version": "3.9.13"
  }
 },
 "nbformat": 4,
 "nbformat_minor": 5
}
